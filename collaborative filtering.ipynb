{
 "cells": [
  {
   "cell_type": "code",
   "execution_count": 1,
   "metadata": {
    "collapsed": false
   },
   "outputs": [],
   "source": [
    "from pprint import pprint\n",
    "from pymongo import MongoClient\n",
    "from copy import deepcopy\n",
    "import numpy as np\n",
    "from matplotlib import pyplot as plt\n",
    "\n",
    "client = MongoClient()\n",
    "db = client.Yelp\n",
    "\n",
    "#Utility functions\n",
    "\n",
    "def getBusinessesById(business_id):\n",
    "     return list(db[\"business\"].find({\"business_id\":{\"$in\":item_id}}))\n",
    "\n",
    "def getReviewsById(review_id):\n",
    "    return list(db[\"review\"].find({\"review_id\":{\"$in\":item_id}}))\n",
    "\n",
    "def getUsersById(user_id):\n",
    "    return list(db[\"user\"].find({\"user_id\":{\"$in\":item_id}}))\n",
    "\n",
    "def getFields(col):\n",
    "    return db[col].find({})[0].keys()"
   ]
  },
  {
   "cell_type": "markdown",
   "metadata": {},
   "source": [
    "# Data aggregation\n",
    "\n",
    "Since the user is bound to a city, it is sufficient to aggregate relevant data from that city. "
   ]
  },
  {
   "cell_type": "code",
   "execution_count": 2,
   "metadata": {
    "collapsed": true
   },
   "outputs": [],
   "source": [
    "# Aggregate data for each city along with data cleaning/pruning\n",
    "\n",
    "def aggregateByCity(city, minimum_reviews_business = 10, minimum_reviews_users = 10):\n",
    "    user_review_map = {}\n",
    "    # Get list of businesses in a  given city\n",
    "    businesses = db.business.find({\"city\": city,\n",
    "                                   \"review_count\":{\"$gt\":minimum_reviews_business}})\n",
    "    bus_items = [(x['business_id'], x['name']) for x in businesses]\n",
    "    busids = [x[0] for x in bus_items]\n",
    "    # Obtain a list of all reviews corresponding to this city\n",
    "    temp_reviews = db.review.find({\"business_id\":{\"$in\":busids}})\n",
    "    \n",
    "    # Generate a dict consisting of user_id:{business_id:rating,...}]\n",
    "    for r in temp_reviews:\n",
    "        if not user_review_map.get(r['user_id']):\n",
    "            user_review_map[r['user_id']] = {}\n",
    "        else:\n",
    "            pass\n",
    "        user_review_map[r['user_id']][r['business_id']] = r['stars']\n",
    "        \n",
    "    pruned_review_map = {}\n",
    "    \n",
    "    # Prune users with insufficient reviews\n",
    "    for k,i in user_review_map.items():\n",
    "        if len(i) > minimum_reviews_users:\n",
    "            pruned_review_map[k] = i\n",
    "        else:\n",
    "            pass\n",
    "    return busids,pruned_review_map, bus_items"
   ]
  },
  {
   "cell_type": "markdown",
   "metadata": {},
   "source": [
    "# City counts\n",
    "\n",
    "A dict of cities and the number of businesses corresponding to that city is generated. Used for further pruning purposes."
   ]
  },
  {
   "cell_type": "code",
   "execution_count": 3,
   "metadata": {
    "collapsed": false
   },
   "outputs": [],
   "source": [
    "# City counts is needed in the future (searching a city with less than sufficient businesses is bound to be inaccurate)\n",
    "city_counts = {c:0 for c in db.business.distinct('city')}\n",
    "\n",
    "# Business counts as an array\n",
    "metrics = []\n",
    "for b in db.business.find({}):\n",
    "    city_counts[b['city']] += 1\n",
    "\n",
    "for i,v in city_counts.items():\n",
    "    metrics.append(v)"
   ]
  },
  {
   "cell_type": "code",
   "execution_count": 4,
   "metadata": {
    "collapsed": false
   },
   "outputs": [
    {
     "data": {
      "image/png": "[encoded data removed]",
      "text/plain": [
       "<matplotlib.figure.Figure at 0x229a3edb9b0>"
      ]
     },
     "metadata": {},
     "output_type": "display_data"
    }
   ],
   "source": [
    "# Plot top businesses with highest business counts(highest n business counts).\n",
    "def business_numbers_plot(n):\n",
    "    maximum_content = sorted(metrics)[-1-n:-1]\n",
    "    x = list(range(len(maximum_content)))\n",
    "    plt.plot(x, maximum_content)\n",
    "    plt.title(\"Cities with most businesses (top {})\".format(n))\n",
    "    plt.xlabel(\"Cities\")\n",
    "    plt.ylabel(\"Number of businesses\")\n",
    "    plt.show()\n",
    "\n",
    "business_numbers_plot(100)"
   ]
  },
  {
   "cell_type": "markdown",
   "metadata": {},
   "source": [
    "# Pruning plots\n",
    "\n",
    "Exploratory analysis involves the plotting of number of businesses/users remaining, as a function of minimum number of reviews. Although pruning more does not directly correlate with quality of data, it provides insight on the scarcely reviewed (which might lead to probable inaccuracy). This helps in choosing pruning thresholds."
   ]
  },
  {
   "cell_type": "code",
   "execution_count": 5,
   "metadata": {
    "collapsed": false
   },
   "outputs": [],
   "source": [
    "def pruning_business_plot(c_city=\"Phoenix\", minimum_reviews_b = 100):\n",
    "    x = list(range(0,minimum_reviews_b + 1,10))\n",
    "    prune_b_counts = []\n",
    "    for i in x:\n",
    "        businesses, review_map, c = aggregateByCity(city = c_city, minimum_reviews_business = i)\n",
    "        prune_b_counts.append(len(businesses))\n",
    "    plt.plot(x, prune_b_counts)\n",
    "    plt.title(\"Businesses after pruning ({})\".format(c_city))\n",
    "    plt.xlabel(\"Minimum number of reviews per business\")\n",
    "    plt.ylabel(\"Number of businesses\")\n",
    "    plt.show()\n",
    "    \n",
    "def pruning_user_plot(c_city=\"Phoenix\", minimum_reviews_u = 10):\n",
    "    x = list(range(0,minimum_reviews_u + 1,1))\n",
    "    prune_u_counts = []\n",
    "    for i in x:\n",
    "        businesses, review_map, c = aggregateByCity(city = c_city, minimum_reviews_users = i)\n",
    "        prune_u_counts.append(len(review_map))\n",
    "    plt.plot(x, prune_u_counts)\n",
    "    plt.title(\"Users after pruning ({})\".format(c_city))\n",
    "    plt.xlabel(\"Minimum number of reviews per user\")\n",
    "    plt.ylabel(\"Number of users\")\n",
    "    plt.show()"
   ]
  },
  {
   "cell_type": "code",
   "execution_count": 6,
   "metadata": {
    "collapsed": false
   },
   "outputs": [
    {
     "data": {
      "image/png": "[encoded data removed]",
      "text/plain": [
       "<matplotlib.figure.Figure at 0x229a7d6f160>"
      ]
     },
     "metadata": {},
     "output_type": "display_data"
    }
   ],
   "source": [
    "pruning_business_plot()"
   ]
  },
  {
   "cell_type": "code",
   "execution_count": 7,
   "metadata": {
    "collapsed": false
   },
   "outputs": [
    {
     "data": {
      "image/png": "[encoded data removed]",
      "text/plain": [
       "<matplotlib.figure.Figure at 0x229a5672dd8>"
      ]
     },
     "metadata": {},
     "output_type": "display_data"
    }
   ],
   "source": [
    "pruning_user_plot(\"Scottsdale\")"
   ]
  },
  {
   "cell_type": "code",
   "execution_count": 8,
   "metadata": {
    "collapsed": false
   },
   "outputs": [
    {
     "data": {
      "text/plain": [
       "1183362"
      ]
     },
     "execution_count": 8,
     "metadata": {},
     "output_type": "execute_result"
    }
   ],
   "source": [
    "db.user.find({}).count()"
   ]
  },
  {
   "cell_type": "markdown",
   "metadata": {},
   "source": [
    "# Obtaining data\n",
    "\n",
    "Data is extracted for the city Phoenix, which is used for the analysis of implemented functions/algorithms."
   ]
  },
  {
   "cell_type": "code",
   "execution_count": 9,
   "metadata": {
    "collapsed": false
   },
   "outputs": [],
   "source": [
    "businesses, user_reviews, business_items = aggregateByCity(\"Phoenix\")"
   ]
  },
  {
   "cell_type": "markdown",
   "metadata": {},
   "source": [
    "# Utility functions, effective representation and implementation.\n",
    "\n",
    "The *user_to_vector* function (expands miniaturized data) accepts the reviews of a user as a dictionary of {business_ids, ratings} and the outline of how the vector should look like, i.e. the $i^{th}$  entry of the vector corresponds to the rating of the business in the $i^{th}$ position.\n",
    "\n",
    "The *vector to map* function (converts vector to map) accepts a vector of reviews for a user and generates a map of businesses and corresponding ratings for that user.\n",
    "\n",
    "*get_similarity* calculates a metric of how similar two users are.\n",
    "\n",
    "*get_similarities* calculates the similarity of a user with all other users and returns a dict of similarity metric corresponding to each user.\n",
    "\n",
    "*MSE* calculates error in prediction.\n",
    "\n",
    "*predict_ratings* estimates the ratings of all businesses in the city for a given user. It ignores the user that has a similarity of 1 (exactly same rating pattern). This ensures that at any point during execution, test data does not intersect with training data. \n",
    "Since this function accepts a map of review patterns, it can be applied to a random input map that does not belong to this dataset. However, the current analysis is done for users that belong to the current dataset.\n",
    "\n",
    "\n",
    "A user is generally represented in their sparse format which greatly reduces the space required to store data. The sparse representation is expanded only when necessary (to calculate vector distances)."
   ]
  },
  {
   "cell_type": "code",
   "execution_count": 10,
   "metadata": {
    "collapsed": false
   },
   "outputs": [],
   "source": [
    "def user_to_vector(user_review_data, businesses):\n",
    "    user_vector = []\n",
    "    for b in businesses:\n",
    "        cur = user_review_data.get(b)\n",
    "        if cur is None:\n",
    "            user_vector.append(0)\n",
    "        else:\n",
    "            user_vector.append(cur)\n",
    "    return np.array(user_vector)\n",
    "\n",
    "def vector_to_map(user_vector, businesses):\n",
    "    return {b:r for r,b in zip(user_vector, businesses)}\n",
    "\n",
    "def get_similarity(u1, u2):\n",
    "    return (u1@u2)/np.sqrt((u1@u1)*(u2@u2))\n",
    "\n",
    "def get_similarities(u, businesses, user_reviews):\n",
    "    \n",
    "    temp_user_vector = user_to_vector(u, businesses)\n",
    "    similarities = []\n",
    "    for k,v in user_reviews.items():\n",
    "        current_user_vector = user_to_vector(v, businesses)\n",
    "        similarities.append([k, get_similarity(temp_user_vector, current_user_vector)])\n",
    "    \n",
    "    similarities = sorted(similarities, key=lambda x:x[1], reverse = True)\n",
    "    return similarities\n",
    "\n",
    "\n",
    "def MSE(u, pred_u):\n",
    "    current_u = u[u!=0]\n",
    "    pred_u = pred_u[u!=0]\n",
    "    diff = current_u - pred_u\n",
    "    if len(u) == 0:\n",
    "        return 0\n",
    "    return np.sqrt((diff@diff)/len(u))\n",
    "\n",
    "def predict_ratings(u, businesses, user_reviews, min_users = 1000, debug = False):\n",
    "    \n",
    "    if min_users == -1:\n",
    "        min_users = len(user_reviews)-1\n",
    "        \n",
    "    sum_ratings = np.zeros(len(businesses))\n",
    "    sum_weights = np.zeros(len(businesses))\n",
    "    user_vector = user_to_vector(u, businesses)\n",
    "    similarities = get_similarities(u, businesses, user_reviews)\n",
    "    start_index = 1\n",
    "    if not similarities[0][1] == 1:\n",
    "        start_index = 0\n",
    "    k_range = list(range(start_index,min_users+1))\n",
    "    mse_array = []\n",
    "    \n",
    "    for i in k_range:\n",
    "        current_user = similarities[i][0]\n",
    "        current_similarity = similarities[i][1]\n",
    "        current_user_vector = user_to_vector(user_reviews[current_user], businesses)\n",
    "        sum_ratings += current_user_vector*current_similarity\n",
    "        sum_weights += (current_user_vector != 0)*current_similarity\n",
    "        if debug:\n",
    "            current_user_vector = sum_ratings/(sum_weights + 1*(sum_weights == 0)) \n",
    "            mse_array.append(MSE(user_vector, current_user_vector))\n",
    "    \n",
    "    if debug:\n",
    "        plt.title('Prediction accuracy')\n",
    "        plt.xlabel('Number of users considered for prediction')\n",
    "        plt.ylabel('MSE')\n",
    "        plt.plot(k_range, mse_array)\n",
    "        plt.show()\n",
    "        \n",
    "    final_user_vector = sum_ratings/(sum_weights + 1*(sum_weights == 0)) \n",
    "    return vector_to_map(final_user_vector, businesses)\n",
    "        \n",
    "    "
   ]
  },
  {
   "cell_type": "markdown",
   "metadata": {},
   "source": [
    "# Prediction accuracy\n",
    "\n",
    "*predict_ratings* allows a debug mode, which plots the increase in accuracy as a function of number of similar users considered increases. A debug run is shown below."
   ]
  },
  {
   "cell_type": "code",
   "execution_count": 11,
   "metadata": {
    "collapsed": false
   },
   "outputs": [
    {
     "data": {
      "image/png": "[encoded data removed]",
      "text/plain": [
       "<matplotlib.figure.Figure at 0x229a7d8aac8>"
      ]
     },
     "metadata": {},
     "output_type": "display_data"
    }
   ],
   "source": [
    "predictions = predict_ratings(user_reviews['CQ7tEwDL_5jpEJzDKKYv4Q'], businesses, user_reviews, -1, True)"
   ]
  },
  {
   "cell_type": "code",
   "execution_count": 12,
   "metadata": {
    "collapsed": false
   },
   "outputs": [
    {
     "data": {
      "text/plain": [
       "{'-raUM9T-1dKPiB5_vRmFYA': 5,\n",
       " '3u4AsqA8glBmGuxtNx5mdQ': 5,\n",
       " '4p6Wce7Ed707QS2-yQkvZw': 4,\n",
       " '5zHi8eQhO7sO3N15zHgkUg': 5,\n",
       " '7m1Oa1VYV98UUuo_6i0EZg': 4,\n",
       " 'AZQ6eiVqhMalpVL9Bbq6Iw': 4,\n",
       " 'E25-2ssHwsajyGtsllMXaA': 4,\n",
       " 'E3qxMkbKxQR6Aca36c53GA': 5,\n",
       " 'GX4C0SDgzuywFbO2W_g1ow': 5,\n",
       " 'JCZEK7wiazoM6xiq8YeZyw': 4,\n",
       " 'JdSF_NucmJZcl1eNlNXZ0Q': 5,\n",
       " 'KDh82ODr4adz9ck6ltQ_YQ': 5,\n",
       " 'L6ZPG8lO1tMGmHimSjuEMg': 4,\n",
       " 'LGOcTvjdBLq13ooCjKnVIQ': 4,\n",
       " 'NgDyxaeItFSInv7J5paGLQ': 5,\n",
       " 'OQggqcQglU-lHY3rY-8Lhw': 5,\n",
       " 'Yea_hg7GjYfOOzMeBSUNjg': 4,\n",
       " 'ZCzey5aPhd7jYIoHsUfjmQ': 5,\n",
       " '_mqUzNXs_sJ1EJYgYZYszg': 4,\n",
       " 'aXRrMXXoAN7lawHICgmsxw': 5,\n",
       " 'csy-xJWM68SXabizUIhucA': 3,\n",
       " 'dja9beNvdd_SmXxn8At5aQ': 3,\n",
       " 'es3Fq9KNp6Ry994x4T4ZYg': 4,\n",
       " 'lRL7x-HMBscWyELxEVq85w': 4,\n",
       " 'muzZW1AqlfdWGMND0jf_kw': 5,\n",
       " 'pBwOqgpkaDmFUDYX8cbnNQ': 5,\n",
       " 'pSQFynH1VxkfSmehRXlZWw': 4,\n",
       " 'rK0Sz8xlX-ni_u_K9CQq-g': 5,\n",
       " 'wB2mrl_xHyj55UObucaVRA': 5,\n",
       " 'yNPh5SO-7wr8HPpVCDPbXQ': 4}"
      ]
     },
     "execution_count": 12,
     "metadata": {},
     "output_type": "execute_result"
    }
   ],
   "source": [
    "user_reviews['CQ7tEwDL_5jpEJzDKKYv4Q']"
   ]
  },
  {
   "cell_type": "markdown",
   "metadata": {},
   "source": [
    "# More utility functions\n",
    "\n",
    "These utility functions are used to better serve the end user."
   ]
  },
  {
   "cell_type": "code",
   "execution_count": 13,
   "metadata": {
    "collapsed": false
   },
   "outputs": [],
   "source": [
    "def id_name_correlate(business_items):\n",
    "    b_name_id = {}\n",
    "    b_id_name = {}\n",
    "    for idx, nam in business_items:\n",
    "        b_name_id[nam] = idx\n",
    "        b_id_name[idx] = nam\n",
    "    return b_name_id, b_id_name"
   ]
  },
  {
   "cell_type": "code",
   "execution_count": 14,
   "metadata": {
    "collapsed": true
   },
   "outputs": [],
   "source": [
    "def get_top_unvisited(user_predictions, user_initial, k = 10):\n",
    "    ignore_keys = set(user_initial.keys())\n",
    "    final_keys = list(set(user_predictions.keys()) - ignore_keys)\n",
    "    final_keys = sorted(final_keys, key = lambda x:user_predictions[x], reverse = True)\n",
    "    upper_limit = len(final_keys)\n",
    "    \n",
    "    # return all prediction ratings in decreasing order of rating.\n",
    "    k = upper_limit if k == -1 else k\n",
    "    k = k if upper_limit > k else upper_limit\n",
    "    return final_keys[:k]\n",
    "\n",
    "def get_categories(busids):\n",
    "    category_map = {}\n",
    "    for row in db.business.find({\"business_id\":{\"$in\":busids}}):\n",
    "        category_map[row['business_id']] = row['categories']\n",
    "    return category_map"
   ]
  },
  {
   "cell_type": "code",
   "execution_count": 15,
   "metadata": {
    "collapsed": false
   },
   "outputs": [
    {
     "data": {
      "text/plain": [
       "dict_keys(['_id', 'business_id', 'name', 'neighborhood', 'address', 'city', 'state', 'postal_code', 'latitude', 'longitude', 'stars', 'review_count', 'is_open', 'attributes', 'categories', 'hours'])"
      ]
     },
     "execution_count": 15,
     "metadata": {},
     "output_type": "execute_result"
    }
   ],
   "source": [
    "getFields(\"business\")"
   ]
  },
  {
   "cell_type": "markdown",
   "metadata": {},
   "source": [
    "# Comparison of results\n",
    "\n",
    "The following code is used to compare results obtained from collaborative filtering to that of content based filtering."
   ]
  },
  {
   "cell_type": "code",
   "execution_count": 16,
   "metadata": {
    "collapsed": false
   },
   "outputs": [],
   "source": [
    "businesses, user_reviews, business_items = aggregateByCity(\"Tempe\")"
   ]
  },
  {
   "cell_type": "code",
   "execution_count": 17,
   "metadata": {
    "collapsed": false
   },
   "outputs": [],
   "source": [
    "namemap, idmap = id_name_correlate(business_items)\n",
    "\n",
    "predictions = predict_ratings(user_reviews['sOudRDE_R3VYni0rEYFkSA'], businesses, user_reviews, 1000)\n",
    "top_ids = get_top_unvisited(predictions, user_reviews['sOudRDE_R3VYni0rEYFkSA'], -1)"
   ]
  },
  {
   "cell_type": "code",
   "execution_count": 19,
   "metadata": {
    "collapsed": false
   },
   "outputs": [
    {
     "name": "stdout",
     "output_type": "stream",
     "text": [
      "236\n",
      "2146\n"
     ]
    }
   ],
   "source": [
    "cat = get_categories(top_ids)\n",
    "c = 0\n",
    "for k in top_ids:\n",
    "    if(predictions[k]==5):\n",
    "        c += 1\n",
    "    \n",
    "print(c)\n",
    "print(len(predictions))"
   ]
  },
  {
   "cell_type": "markdown",
   "metadata": {},
   "source": [
    "236 Businesses have 5 star prediction ratings."
   ]
  },
  {
   "cell_type": "code",
   "execution_count": 20,
   "metadata": {
    "collapsed": false
   },
   "outputs": [
    {
     "name": "stdout",
     "output_type": "stream",
     "text": [
      "5.0\n",
      "4.16940686964\n",
      "5.0\n",
      "4.46216596899\n",
      "3.61464469275\n",
      "3.81421214184\n",
      "4.19561246476\n",
      "3.3565852339\n",
      "4.16940686964\n"
     ]
    }
   ],
   "source": [
    "print(predictions['jFyITSwBzUq7tePWJuQqhA'])\n",
    "print(predictions['wopyolJM2hOAt3dPRmahNA'])\n",
    "print(predictions['FaFOqx1q26kMSzUlgrYp0Q'])\n",
    "print(predictions['SoCVWvr5f5lYJEY_62bgAw'])\n",
    "print(predictions['6YrmJ_pxLSTabcM_FFZhlQ'])\n",
    "print(predictions['tWiFat101ID5w_wgAPMXhA'])\n",
    "print(predictions['QuybD_bJcAB2CHcpTfREYg'])\n",
    "print(predictions['t53w4JlkxTau-G-TzhSWog'])\n",
    "print(predictions['wopyolJM2hOAt3dPRmahNA'])"
   ]
  },
  {
   "cell_type": "code",
   "execution_count": null,
   "metadata": {
    "collapsed": true
   },
   "outputs": [],
   "source": []
  }
 ],
 "metadata": {
  "kernelspec": {
   "display_name": "Python 3",
   "language": "python",
   "name": "python3"
  },
  "language_info": {
   "codemirror_mode": {
    "name": "ipython",
    "version": 3
   },
   "file_extension": ".py",
   "mimetype": "text/x-python",
   "name": "python",
   "nbconvert_exporter": "python",
   "pygments_lexer": "ipython3",
   "version": "3.6.0"
  }
 },
 "nbformat": 4,
 "nbformat_minor": 2
}
