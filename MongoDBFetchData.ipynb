{
 "cells": [
  {
   "cell_type": "code",
   "execution_count": 1,
   "metadata": {
    "collapsed": true
   },
   "outputs": [],
   "source": [
    "from pprint import pprint\n",
    "from pymongo import MongoClient\n",
    "from sklearn.feature_extraction.text import TfidfVectorizer\n",
    "from sklearn.metrics.pairwise import cosine_similarity\n",
    "import numpy as np\n",
    "import matplotlib.pyplot as plt\n",
    "from sklearn.decomposition import TruncatedSVD\n",
    "#setup Mongo\n",
    "client = MongoClient()\n",
    "db = client.testYelp"
   ]
  },
  {
   "cell_type": "code",
   "execution_count": 2,
   "metadata": {
    "collapsed": true
   },
   "outputs": [],
   "source": [
    "# Function to fetch businesses present in given city\n",
    "def getBusinessByCity(city):\n",
    "    return list(db.business.find({\"city\": city}))"
   ]
  },
  {
   "cell_type": "code",
   "execution_count": 3,
   "metadata": {
    "collapsed": true
   },
   "outputs": [],
   "source": [
    "#Fetch list of reviews given to all businesses in the list\n",
    "def getReviewsByBusId(busids):\n",
    "    reviews = list(db.review.find({\"business_id\":{\"$in\":busids}}))\n",
    "    return reviews"
   ]
  },
  {
   "cell_type": "code",
   "execution_count": 4,
   "metadata": {
    "collapsed": true
   },
   "outputs": [],
   "source": [
    "# Function to fetch tips for all business in the list\n",
    "def getTipsByBusId(busids):\n",
    "    tips = list(db.tip.find({\"business_id\":{\"$in\":busids}}))\n",
    "    return tips"
   ]
  },
  {
   "cell_type": "code",
   "execution_count": 5,
   "metadata": {
    "collapsed": true
   },
   "outputs": [],
   "source": [
    "#Function to get User Infomration using user ID\n",
    "def getUsersById(userids):\n",
    "    users = list(db.user.find({\"user_id\":{\"$in\":userids}}))\n",
    "    return users"
   ]
  },
  {
   "cell_type": "code",
   "execution_count": 6,
   "metadata": {
    "collapsed": true
   },
   "outputs": [],
   "source": [
    "def rmse(predictions, targets):\n",
    "    return np.sqrt(((predictions - targets) ** 2).mean())"
   ]
  },
  {
   "cell_type": "code",
   "execution_count": 7,
   "metadata": {
    "collapsed": true
   },
   "outputs": [],
   "source": [
    "def generateTFIDFMatrix(reviews):\n",
    "    for b_id, text in reviews.items():\n",
    "        reviews[b_id] = \" \".join(text)    \n",
    "    corpus = []\n",
    "    count =0\n",
    "    b_index_Ids={}\n",
    "    for id, txt in sorted(reviews.items(), key=lambda t: str(t[0])):\n",
    "        corpus.append(txt)\n",
    "        b_index_Ids[count] = id\n",
    "        count+=1\n",
    "    tf = TfidfVectorizer(analyzer='word', ngram_range=(1,1), min_df = 0.01,max_df = 0.95, stop_words = 'english')\n",
    "    tfidf_business_matrix =  tf.fit_transform(corpus)\n",
    "    return (b_index_Ids,tfidf_business_matrix)\n",
    "    "
   ]
  },
  {
   "cell_type": "code",
   "execution_count": 8,
   "metadata": {
    "collapsed": true
   },
   "outputs": [],
   "source": [
    "# Current city kept as Matthees\n",
    "business=getBusinessByCity('Matthews')"
   ]
  },
  {
   "cell_type": "code",
   "execution_count": 9,
   "metadata": {},
   "outputs": [],
   "source": [
    "#Get list of business ids  for businesses in given City\n",
    "busids = [x['business_id'] for x in business]\n",
    "\n",
    "business_dict = dict((k, v) for (k, v) in zip(busids, business))\n",
    "\n",
    "reviews = getReviewsByBusId(busids)\n",
    "\n",
    "tips = getTipsByBusId(busids)\n",
    "\n",
    "# get users to bus ids map\n",
    "users_res_reviewd = {}\n",
    "for r in reviews:\n",
    "    if r['user_id'] in users_res_reviewd:\n",
    "        users_res_reviewd[r['user_id']].append(r['business_id'])\n",
    "    else:\n",
    "        users_res_reviewd[r['user_id']]=[r['business_id']]\n",
    "\n",
    "#users who have reviewed restaurants and tips\n",
    "usersR = [x['user_id'] for x in reviews]\n",
    "usersT = [x['user_id'] for x in tips]\n",
    "\n",
    "#get distinct user ids\n",
    "userIds = list(set(usersR))\n",
    "\n",
    "#Fetch user information\n",
    "users = getUsersById(userIds)\n",
    "\n",
    "users_dict = dict((k, v) for (k, v) in zip(userIds, users))\n"
   ]
  },
  {
   "cell_type": "code",
   "execution_count": 10,
   "metadata": {},
   "outputs": [
    {
     "name": "stdout",
     "output_type": "stream",
     "text": [
      "'583 business.length'\n",
      "'10092 reviews.length'\n",
      "'1810 tips.length'\n",
      "'5554 users.length'\n"
     ]
    }
   ],
   "source": [
    "# Print statistics\n",
    "pprint(str(len(business))+ ' business.length')\n",
    "pprint(str(len(reviews))+ ' reviews.length')\n",
    "pprint(str(len(tips))+ ' tips.length')\n",
    "pprint(str(len(users))+ ' users.length')"
   ]
  },
  {
   "cell_type": "code",
   "execution_count": 11,
   "metadata": {},
   "outputs": [
    {
     "data": {
      "image/png": "[encoded data removed]",
      "text/plain": [
       "<matplotlib.figure.Figure at 0x7f63569ce828>"
      ]
     },
     "metadata": {},
     "output_type": "display_data"
    },
    {
     "name": "stdout",
     "output_type": "stream",
     "text": [
      "mean 54.7113157113 max 2616 min 6\n"
     ]
    }
   ],
   "source": [
    "# Print Reviews by users for Matthews city's businesses \n",
    "# Limits \n",
    "li = sorted([int(x['review_count']) for x in users if (int(x['review_count'])>5 and int(x['review_count'])<5001 )])\n",
    "plt.hist(li,bins=190)\n",
    "plt.xlabel('Review Count')\n",
    "plt.ylabel('Number of Users')\n",
    "plt.yscale('log', nonposy='clip')\n",
    "plt.title('Reviews by users for Matthews city''s businesses')\n",
    "plt.show()\n",
    "meanli = np.mean(li)\n",
    "maxli=np.max(li)\n",
    "minli=np.min(li)\n",
    "print('mean '+str(meanli) + ' max '+str(maxli) + ' min '+str(minli))\n"
   ]
  },
  {
   "cell_type": "code",
   "execution_count": 12,
   "metadata": {},
   "outputs": [
    {
     "data": {
      "image/png": "[encoded data removed]",
      "text/plain": [
       "<matplotlib.figure.Figure at 0x7f6356236828>"
      ]
     },
     "metadata": {},
     "output_type": "display_data"
    },
    {
     "name": "stdout",
     "output_type": "stream",
     "text": [
      "mean 25.3698630137 max 352 min 6\n"
     ]
    }
   ],
   "source": [
    "lis = sorted([int(x['review_count']) for x in business if (int(x['review_count'])>5 and int(x['review_count'])<5001 )])\n",
    "plt.hist(lis,bins=190)\n",
    "plt.xlabel('Review Count')\n",
    "plt.ylabel('Number of Businesses')\n",
    "plt.yscale('log', nonposy='clip')\n",
    "plt.title('Reviews for Matthews city''s businesses')\n",
    "plt.show()\n",
    "\n",
    "meanlis = np.mean(lis)\n",
    "maxlis=np.max(lis)\n",
    "minlis=np.min(lis)\n",
    "print('mean '+str(meanlis) + ' max '+str(maxlis) + ' min '+str(minlis))"
   ]
  },
  {
   "cell_type": "code",
   "execution_count": 4,
   "metadata": {},
   "outputs": [
    {
     "name": "stdout",
     "output_type": "stream",
     "text": [
      "9260\n"
     ]
    }
   ],
   "source": [
    "#totalrev = sum(lis)\n",
    "#print (totalrev)"
   ]
  },
  {
   "cell_type": "code",
   "execution_count": 14,
   "metadata": {},
   "outputs": [],
   "source": [
    "#Business with very few reviews will be removed and reviews greater than a limit are removed. \n",
    "# Business with many reviews might have a lot of words and end up being similar to all\n",
    "\n",
    "ignoreBusi = ([x['business_id'] for x in business if (int(x['review_count'])<=5 or int(x['review_count'])>=5001 )])\n",
    "\n",
    "busReviews = {}\n",
    "usrReviews={}\n",
    "#Append all text per user and per business so we can create corpus for them\n",
    "for rev in reviews:\n",
    "    if rev['business_id'] not in ignoreBusi:\n",
    "        if rev['business_id'] in busReviews:\n",
    "            busReviews[rev['business_id']].append(rev['text'])\n",
    "        else:\n",
    "            busReviews[rev['business_id']] = [rev['text']]\n",
    "        if rev['user_id'] in usrReviews:\n",
    "            usrReviews[rev['user_id']].append(rev['text'])\n",
    "        else:\n",
    "            usrReviews[rev['user_id']] = [rev['text']]"
   ]
  },
  {
   "cell_type": "code",
   "execution_count": 15,
   "metadata": {
    "collapsed": true
   },
   "outputs": [],
   "source": [
    "#Join text of all reviews for a business\n",
    "bus_index_Ids,tfidf_business_matrix = generateTFIDFMatrix(busReviews)\n",
    "\n",
    "ft = np.argsort(tfidf_business_matrix.getrow(0).toarray())[0][-25:]\n",
    "\n",
    "svd = TruncatedSVD(n_components=10)\n",
    "\n",
    "svdBusinessMatrix = svd.fit_transform(tfidf_business_matrix)"
   ]
  },
  {
   "cell_type": "code",
   "execution_count": 16,
   "metadata": {
    "collapsed": true
   },
   "outputs": [],
   "source": [
    "simBusMatrix = cosine_similarity(svdBusinessMatrix)\n",
    "suggest_res_dict = {}\n",
    "for i in range(len(simBusMatrix)):\n",
    "    suggest_res = np.argsort(simBusMatrix[i])[::-1][1:15]\n",
    "    suggest_res_ids = [bus_index_Ids[i] for i  in suggest_res ][:]\n",
    "    suggest_res_dict[bus_index_Ids[i]] = suggest_res_ids\n"
   ]
  },
  {
   "cell_type": "code",
   "execution_count": 17,
   "metadata": {
    "collapsed": true
   },
   "outputs": [],
   "source": [
    "\n",
    "\n",
    "userIds,tfidf_user_matrix = generateTFIDFMatrix(usrReviews)\n",
    "\n",
    "svd1 = TruncatedSVD(n_components=10)\n",
    "svdUsersMatrix = svd1.fit_transform(tfidf_user_matrix)\n"
   ]
  },
  {
   "cell_type": "code",
   "execution_count": 18,
   "metadata": {
    "collapsed": true
   },
   "outputs": [],
   "source": [
    "simUserMatrix = cosine_similarity(svdUsersMatrix)  \n",
    "suggest_users_dict = {}\n",
    "for i in range(len(simUserMatrix)):\n",
    "    suggest_user = np.argsort(simUserMatrix[i])[::-1][1:15]\n",
    "    suggest_user_ids = [userIds[i] for i  in suggest_user ][:]\n",
    "    suggest_users_dict[userIds[i]] = suggest_user_ids\n"
   ]
  },
  {
   "cell_type": "code",
   "execution_count": 19,
   "metadata": {},
   "outputs": [
    {
     "data": {
      "text/plain": [
       "['dH6HHFvYkEiduY9oiiss3Q',\n",
       " 'd4ctqzPjOtw7svHEBYWbdA',\n",
       " 'vQ6-Sb6K6Ptam7WZ3w2Ing',\n",
       " 'LKBiSRLy-tw4cGbWuHIYvg',\n",
       " 'tz8eio3Lyf1l5uSHZAXyKA',\n",
       " '5bGvh19onTP_lGa_1kGsUA',\n",
       " '9CFDyrmgyJNtQ2B522cHjg',\n",
       " 'urThcqroWgGhtyArBz0Yzg',\n",
       " 'YqSUKb32F_PLAZrhoMKFkw',\n",
       " 'LpVDU8wGkvsJeku1hBS9kg',\n",
       " 'NGOOQmPvBIufKteKC-Pn7Q',\n",
       " 'EjH1z3Do6ZAvC7fkr_Xh5w',\n",
       " 'tgWqZHcidEUjJNYlF614EA',\n",
       " 'EezooD4Y4ne0I1W598BYGw']"
      ]
     },
     "execution_count": 19,
     "metadata": {},
     "output_type": "execute_result"
    }
   ],
   "source": [
    "suggest_users_dict[userIds[0]]\n",
    "\n"
   ]
  },
  {
   "cell_type": "code",
   "execution_count": 20,
   "metadata": {
    "collapsed": true
   },
   "outputs": [],
   "source": [
    "restaurant_user_matrix = cosine_similarity(svdUsersMatrix,svdBusinessMatrix)\n",
    "suggest_user_res_dict = {}\n",
    "for i in range(len(restaurant_user_matrix)):\n",
    "    #remove restaurants already visited.\n",
    "    cosine_list = restaurant_user_matrix[i][:]\n",
    "    for idx, val in enumerate(cosine_list):\n",
    "        if bus_index_Ids[idx] in users_res_reviewd[userIds[i]]:\n",
    "            np.delete(cosine_list , idx)\n",
    "    suggest_res = np.argsort(cosine_list)[::-1][0:10]\n",
    "    suggest_res_ids = [bus_index_Ids[k] for k  in suggest_res if bus_index_Ids[k] ][:]\n",
    "    suggest_user_res_dict[userIds[i]] = suggest_res_ids"
   ]
  },
  {
   "cell_type": "code",
   "execution_count": 21,
   "metadata": {},
   "outputs": [
    {
     "name": "stdout",
     "output_type": "stream",
     "text": [
      "['XfhMy296hTE9JMbyLypVvw', 'X7_fyzTdFgUvG5GrZKOCxw', 'IdZYzuUDVYkmqUkV6tgqXA', '1IQZkCljjKfwh6cijBUQWQ', 'jYeEes5wdB2gnGdJomCMkg', '1E490PgiN1VGKl_1gdSLcQ', '6cy9dc0ZJbFv_RR7XFPA4w', 'uvmCrQ9af7uyhaYXv6MXxA', 'YYFwHvm7UOSHlWJ7jDFBaA', 'BlAnehMvp5Y85QoFdIFrnQ', 'krINmdjdkzCRogtCmwQggg', '-f0zCpKvtNniDhLASWcxcw', 'evPp4Ffw4PgxMrMw_alsaA', 'whCXRIsqvk4ilZP0_ZK9sA']\n",
      "{'_id': ObjectId('59f75983a5de9007c8f6b8a6'), 'business_id': 'L10XBzgj0_iL700sV94eVg', 'name': 'Plaza Appliance Mart', 'neighborhood': '', 'address': '9405 E Independence Blvd', 'city': 'Matthews', 'state': 'NC', 'postal_code': '28105', 'latitude': 35.1384574, 'longitude': -80.7157277, 'stars': 4.0, 'review_count': 6, 'is_open': 1, 'attributes': {'BusinessAcceptsCreditCards': True, 'RestaurantsPriceRange2': 2, 'WheelchairAccessible': True}, 'categories': ['Appliances', 'Shopping', 'Appliances & Repair', 'Mattresses', 'Home & Garden', 'Local Services'], 'hours': {'Monday': '9:00-20:00', 'Tuesday': '9:00-20:00', 'Friday': '9:00-20:00', 'Wednesday': '9:00-20:00', 'Thursday': '9:00-20:00', 'Sunday': '13:00-18:00', 'Saturday': '9:00-18:00'}}\n"
     ]
    }
   ],
   "source": [
    "print(suggest_res_dict[bus_index_Ids[135]])\n",
    "print(business_dict[bus_index_Ids[135]])\n"
   ]
  },
  {
   "cell_type": "code",
   "execution_count": 22,
   "metadata": {
    "collapsed": true
   },
   "outputs": [],
   "source": [
    "busi_stars_rmse=[]\n",
    "for m in range(len(bus_index_Ids)):\n",
    "    suggestion_list_stars = []\n",
    "    for k in suggest_res_dict[bus_index_Ids[m]]:\n",
    "        suggestion_list_stars.append(float(business_dict[k]['stars']))\n",
    "    val = business_dict[bus_index_Ids[m]]['stars']\n",
    "    curr_stars = [val] * len(suggest_res_dict[bus_index_Ids[m]])\n",
    "    busi_stars_rmse.append(rmse(np.array(curr_stars),np.array(suggestion_list_stars)))\n"
   ]
  },
  {
   "cell_type": "code",
   "execution_count": 23,
   "metadata": {},
   "outputs": [
    {
     "name": "stdout",
     "output_type": "stream",
     "text": [
      "365\n"
     ]
    }
   ],
   "source": [
    "print(len(busi_stars_rmse))"
   ]
  },
  {
   "cell_type": "code",
   "execution_count": 24,
   "metadata": {},
   "outputs": [
    {
     "data": {
      "image/png": "[encoded data removed]",
      "text/plain": [
       "<matplotlib.figure.Figure at 0x7f6355add978>"
      ]
     },
     "metadata": {},
     "output_type": "display_data"
    },
    {
     "name": "stdout",
     "output_type": "stream",
     "text": [
      "1.07127116433\n"
     ]
    }
   ],
   "source": [
    "plt.hist(busi_stars_rmse,bins=100)\n",
    "plt.xlabel('RMSE')\n",
    "plt.ylabel('Number of Businesses')\n",
    "plt.title('RMSE for stars of similar business found by Content Based algorithm for Pheonix city')\n",
    "plt.show()\n",
    "print(np.mean(busi_stars_rmse))"
   ]
  },
  {
   "cell_type": "code",
   "execution_count": 18,
   "metadata": {
    "collapsed": true
   },
   "outputs": [],
   "source": [
    "#user_stars_rmse=[]\n",
    "#for m in range(len(bus_index_Ids)):\n",
    "    #suggestion_list_stars = []\n",
    "    #for k in suggest_res_dict[bus_index_Ids[m]]:\n",
    "        #suggestion_list_stars.append(float(business_dict[k]['stars']))\n",
    "    #val = business_dict[bus_index_Ids[m]]['stars']\n",
    "    #curr_stars = [val] * len(suggest_res_dict[bus_index_Ids[m]])\n",
    "    #busi_stars_rmse.append(rmse(np.array(curr_stars),np.array(suggestion_list_stars)))"
   ]
  },
  {
   "cell_type": "code",
   "execution_count": 25,
   "metadata": {},
   "outputs": [
    {
     "name": "stdout",
     "output_type": "stream",
     "text": [
      "0.927298332164\n"
     ]
    },
    {
     "data": {
      "image/png": "[encoded data removed]",
      "text/plain": [
       "<matplotlib.figure.Figure at 0x7f635676da58>"
      ]
     },
     "metadata": {},
     "output_type": "display_data"
    }
   ],
   "source": [
    "print(np.std([x['stars'] for x in business]))\n",
    "stars = [x['stars'] for x in business]\n",
    "plt.hist(stars,bins=100)\n",
    "plt.xlabel('stars')\n",
    "plt.ylabel('Number of Businesses')\n",
    "plt.title('Stars of business in city')\n",
    "plt.show()"
   ]
  },
  {
   "cell_type": "code",
   "execution_count": null,
   "metadata": {
    "collapsed": true
   },
   "outputs": [],
   "source": []
  }
 ],
 "metadata": {
  "kernelspec": {
   "display_name": "Python 3",
   "language": "python",
   "name": "python3"
  },
  "language_info": {
   "codemirror_mode": {
    "name": "ipython",
    "version": 3
   },
   "file_extension": ".py",
   "mimetype": "text/x-python",
   "name": "python",
   "nbconvert_exporter": "python",
   "pygments_lexer": "ipython3",
   "version": "3.6.1"
  }
 },
 "nbformat": 4,
 "nbformat_minor": 2
}
