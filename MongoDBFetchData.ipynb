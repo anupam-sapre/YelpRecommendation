{
 "cells": [
  {
   "cell_type": "code",
   "execution_count": 1,
   "metadata": {},
   "outputs": [
    {
     "name": "stdout",
     "output_type": "stream",
     "text": [
      "'583 business.length'\n",
      "'10092 reviews.length'\n",
      "'1810 tips.length'\n",
      "'5554 users.length'\n"
     ]
    }
   ],
   "source": [
    "from pprint import pprint\n",
    "from pymongo import MongoClient\n",
    "from sklearn.feature_extraction.text import TfidfVectorizer\n",
    "from sklearn.metrics.pairwise import cosine_similarity\n",
    "import numpy as np\n",
    "import matplotlib.pyplot as plt\n",
    "from sklearn.decomposition import TruncatedSVD\n",
    "client = MongoClient()\n",
    "db = client.testYelp\n",
    "\n",
    "\n",
    "\n",
    "\n",
    "def getBusinessByCity(city):\n",
    "    return list(db.business.find({\"city\": city}))\n",
    "\n",
    "def getReviewsByBusId(busids):\n",
    "    reviews = list(db.review.find({\"business_id\":{\"$in\":busids}}))\n",
    "    #reviews[busid] = [x for x in db.review.find({\"business_id\": { \"$\"in : busids}})]\n",
    "    return reviews\n",
    "\n",
    "def getTipsByBusId(busids):\n",
    "    tips = list(db.tip.find({\"business_id\":{\"$in\":busids}}))\n",
    "    #reviews[busid] = [x for x in db.review.find({\"business_id\": { \"$\"in : busids}})]\n",
    "    return tips\n",
    "\n",
    "\n",
    "def getUsersById(userids):\n",
    "    users = list(db.user.find({\"user_id\":{\"$in\":userids}}))\n",
    "    #reviews[busid] = [x for x in db.review.find({\"business_id\": { \"$\"in : busids}})]\n",
    "    return users\n",
    "    \n",
    "\n",
    "    \n",
    "    \n",
    "business=getBusinessByCity('Matthews')\n",
    "\n",
    "\n",
    "\n",
    "busids = [x['business_id'] for x in business]\n",
    "\n",
    "business_dict = dict((k, v) for (k, v) in zip(busids, business))\n",
    "\n",
    "reviews = getReviewsByBusId(busids)\n",
    "\n",
    "tips = getTipsByBusId(busids)\n",
    "\n",
    "# get users to bus ids map\n",
    "users_res_reviewd = {}\n",
    "for reviewed in reviews:\n",
    "    if reviewed['user_id'] in users_res_reviewd:\n",
    "        users_res_reviewd[reviewed['user_id']].append(reviewed['business_id'])\n",
    "    else:\n",
    "        users_res_reviewd[reviewed['user_id']]=[reviewed['business_id']]\n",
    "\n",
    "\n",
    "usersR = [x['user_id'] for x in reviews]\n",
    "#usersT = [x['user_id'] for x in tips]\n",
    "\n",
    "userIds = list(set(usersR))\n",
    "\n",
    "\n",
    "users = getUsersById(userIds)\n",
    "\n",
    "users_dict = dict((k, v) for (k, v) in zip(userIds, users))\n",
    "\n",
    "\n",
    "pprint(str(len(business))+ ' business.length')\n",
    "pprint(str(len(reviews))+ ' reviews.length')\n",
    "pprint(str(len(tips))+ ' tips.length')\n",
    "pprint(str(len(users))+ ' users.length')\n",
    "\n",
    "\n",
    "\n",
    "\n",
    "\n"
   ]
  },
  {
   "cell_type": "code",
   "execution_count": 2,
   "metadata": {},
   "outputs": [
    {
     "name": "stdout",
     "output_type": "stream",
     "text": [
      "3367\n"
     ]
    },
    {
     "data": {
      "image/png": "[encoded data removed]",
      "text/plain": [
       "<matplotlib.figure.Figure at 0x7f60dc5c0ac8>"
      ]
     },
     "metadata": {},
     "output_type": "display_data"
    },
    {
     "name": "stdout",
     "output_type": "stream",
     "text": [
      "mean 54.7113157113\n"
     ]
    }
   ],
   "source": [
    "li = sorted([int(x['review_count']) for x in users if (int(x['review_count'])>5 and int(x['review_count'])<5001 )])\n",
    "print (len(li))\n",
    "plt.hist(li,bins=190)\n",
    "plt.xlabel('Review Count')\n",
    "plt.ylabel('Number of Users')\n",
    "plt.yscale('log', nonposy='clip')\n",
    "plt.title('Reviews by users for Pheonix city businesses')\n",
    "plt.show()\n",
    "\n",
    "meanli = np.mean(li)\n",
    "print('mean '+str(meanli))\n"
   ]
  },
  {
   "cell_type": "code",
   "execution_count": 3,
   "metadata": {},
   "outputs": [
    {
     "name": "stdout",
     "output_type": "stream",
     "text": [
      "365\n"
     ]
    },
    {
     "data": {
      "image/png": "[encoded data removed]",
      "text/plain": [
       "<matplotlib.figure.Figure at 0x7f60a5b08cc0>"
      ]
     },
     "metadata": {},
     "output_type": "display_data"
    },
    {
     "name": "stdout",
     "output_type": "stream",
     "text": [
      "mean 25.3698630137 max 352 min 6\n"
     ]
    }
   ],
   "source": [
    "lis = sorted([int(x['review_count']) for x in business if (int(x['review_count'])>5 and int(x['review_count'])<5001 )])\n",
    "print (len(lis))\n",
    "plt.hist(lis,bins=190)\n",
    "plt.xlabel('Review Count')\n",
    "plt.ylabel('Number of Businesses')\n",
    "plt.yscale('log', nonposy='clip')\n",
    "plt.title('Reviews for Pheonix city businesses')\n",
    "plt.show()\n",
    "\n",
    "meanlis = np.mean(lis)\n",
    "maxlis=np.max(lis)\n",
    "minlis=np.min(lis)\n",
    "print('mean '+str(meanlis) + ' max '+str(maxlis) + ' min '+str(minlis))"
   ]
  },
  {
   "cell_type": "code",
   "execution_count": 4,
   "metadata": {},
   "outputs": [
    {
     "name": "stdout",
     "output_type": "stream",
     "text": [
      "9260\n"
     ]
    }
   ],
   "source": [
    "totalrev = sum(lis)\n",
    "print (totalrev)"
   ]
  },
  {
   "cell_type": "code",
   "execution_count": 5,
   "metadata": {
    "collapsed": true
   },
   "outputs": [],
   "source": [
    "ignoreBusi = ([x['business_id'] for x in business if (int(x['review_count'])<=5 or int(x['review_count'])>=5001 )])\n",
    "\n",
    "busReviews = {}\n",
    "usrReviews={}\n",
    "for rev in reviews:\n",
    "    if rev['business_id'] not in ignoreBusi:\n",
    "        if rev['business_id'] in busReviews:\n",
    "            busReviews[rev['business_id']].append(rev['text'])\n",
    "        else:\n",
    "            busReviews[rev['business_id']] = [rev['text']]\n",
    "        if rev['user_id'] in usrReviews:\n",
    "            usrReviews[rev['user_id']].append(rev['text'])\n",
    "        else:\n",
    "            usrReviews[rev['user_id']] = [rev['text']]\n",
    "        \n",
    "for bus_id, text in busReviews.items():\n",
    "    busReviews[bus_id] = \" \".join(text)\n",
    "    \n",
    "for us_id, text in usrReviews.items():\n",
    "    usrReviews[us_id] = \" \".join(text)\n",
    "\n",
    "\n",
    "    \n",
    "\n",
    "corpus = []\n",
    "count =0\n",
    "bus_index_Ids={}\n",
    "for id, txt in sorted(busReviews.items(), key=lambda t: str(t[0])):\n",
    "    corpus.append(txt)\n",
    "    bus_index_Ids[count] = id\n",
    "    count+=1\n",
    "\n",
    "    \n",
    "tf = TfidfVectorizer(analyzer='word', ngram_range=(1,1), min_df = 0.01,max_df = 0.95, stop_words = 'english')\n",
    "tfidf_business_matrix =  tf.fit_transform(corpus)\n",
    "\n",
    "\n",
    "feature_names = tf.get_feature_names() \n",
    "\n"
   ]
  },
  {
   "cell_type": "code",
   "execution_count": 6,
   "metadata": {
    "collapsed": true
   },
   "outputs": [],
   "source": [
    "ft = np.argsort(tfidf_business_matrix.getrow(0).toarray())[0][-25:]\n",
    "\n",
    "svd = TruncatedSVD(n_components=10)\n",
    "\n",
    "svdBusinessMatrix = svd.fit_transform(tfidf_business_matrix)\n",
    "\n"
   ]
  },
  {
   "cell_type": "code",
   "execution_count": 7,
   "metadata": {
    "collapsed": true
   },
   "outputs": [],
   "source": [
    "simBusMatrix = cosine_similarity(svdBusinessMatrix)\n",
    "suggest_res_dict = {}\n",
    "for i in range(len(simBusMatrix)):\n",
    "    suggest_res = np.argsort(simBusMatrix[i])[::-1][1:15]\n",
    "    suggest_res_ids = [bus_index_Ids[i] for i  in suggest_res ][:]\n",
    "    suggest_res_dict[bus_index_Ids[i]] = suggest_res_ids\n"
   ]
  },
  {
   "cell_type": "code",
   "execution_count": 8,
   "metadata": {},
   "outputs": [],
   "source": [
    "secCorpus=[]\n",
    "userIds = {}\n",
    "count =0\n",
    "for id, txt in sorted(usrReviews.items(), key=lambda t: str(t[0])):\n",
    "    secCorpus.append(txt)\n",
    "    userIds[count] = id\n",
    "    count+=1\n",
    "tf2 = TfidfVectorizer(analyzer='word', ngram_range=(1,1), min_df = 0.01,max_df = 0.95, stop_words = 'english')\n",
    "tfidf_user_matrix =  tf2.fit_transform(secCorpus)\n",
    "svd1 = TruncatedSVD(n_components=10)\n",
    "svdUsersMatrix = svd1.fit_transform(tfidf_user_matrix)\n"
   ]
  },
  {
   "cell_type": "code",
   "execution_count": 9,
   "metadata": {},
   "outputs": [],
   "source": [
    "simUserMatrix = cosine_similarity(svdUsersMatrix)  \n",
    "suggest_users_dict = {}\n",
    "for i in range(len(simUserMatrix)):\n",
    "    suggest_user = np.argsort(simUserMatrix[i])[::-1][1:15]\n",
    "    suggest_user_ids = [userIds[i] for i  in suggest_user ][:]\n",
    "    suggest_users_dict[userIds[i]] = suggest_user_ids\n"
   ]
  },
  {
   "cell_type": "code",
   "execution_count": null,
   "metadata": {},
   "outputs": [],
   "source": [
    "suggest_users_dict[userIds[0]]\n",
    "\n"
   ]
  },
  {
   "cell_type": "code",
   "execution_count": 14,
   "metadata": {},
   "outputs": [],
   "source": [
    "restaurant_user_matrix = cosine_similarity(svdUsersMatrix,svdBusinessMatrix)\n",
    "suggest_user_res_dict = {}\n",
    "for i in range(len(restaurant_user_matrix)):\n",
    "    #remove restaurants already visited.\n",
    "    cosine_list = restaurant_user_matrix[i][:]\n",
    "    for idx, val in enumerate(cosine_list):\n",
    "        if bus_index_Ids[idx] in users_res_reviewd[userIds[i]]:\n",
    "            np.delete(cosine_list , idx)\n",
    "    suggest_res = np.argsort(cosine_list)[::-1][0:10]\n",
    "    suggest_res_ids = [bus_index_Ids[i] for i  in suggest_res ][:]\n",
    "    suggest_user_res_dict[userIds[i]] = suggest_res_ids"
   ]
  },
  {
   "cell_type": "code",
   "execution_count": null,
   "metadata": {},
   "outputs": [],
   "source": [
    "print(suggest_res_dict[bus_index_Ids[135]])\n",
    "print(business_dict[bus_index_Ids[135]])\n"
   ]
  },
  {
   "cell_type": "code",
   "execution_count": 19,
   "metadata": {},
   "outputs": [],
   "source": [
    "busi_stars_rmse=[]\n",
    "for m in range(len(bus_index_Ids)):\n",
    "    suggestion_list_stars = []\n",
    "    for k in suggest_res_dict[bus_index_Ids[m]]:\n",
    "        suggestion_list_stars.append(float(business_dict[k]['stars']))\n",
    "    val = business_dict[bus_index_Ids[m]]['stars']\n",
    "    curr_stars = [val] * len(suggest_res_dict[bus_index_Ids[m]])\n",
    "    busi_stars_rmse.append(rmse(np.array(curr_stars),np.array(suggestion_list_stars)))\n"
   ]
  },
  {
   "cell_type": "code",
   "execution_count": 18,
   "metadata": {
    "collapsed": true
   },
   "outputs": [],
   "source": [
    "def rmse(predictions, targets):\n",
    "    return np.sqrt(((predictions - targets) ** 2).mean())"
   ]
  },
  {
   "cell_type": "code",
   "execution_count": null,
   "metadata": {},
   "outputs": [],
   "source": [
    "print(len(busi_stars_rmse))"
   ]
  },
  {
   "cell_type": "code",
   "execution_count": 24,
   "metadata": {},
   "outputs": [
    {
     "data": {
      "image/png": "[encoded data removed]",
      "text/plain": [
       "<matplotlib.figure.Figure at 0x7f60a509fc50>"
      ]
     },
     "metadata": {},
     "output_type": "display_data"
    },
    {
     "name": "stdout",
     "output_type": "stream",
     "text": [
      "1.07150231095\n"
     ]
    }
   ],
   "source": [
    "plt.hist(busi_stars_rmse,bins=100)\n",
    "plt.xlabel('RMSE')\n",
    "plt.ylabel('Number of Businesses')\n",
    "plt.title('RMSE for stars of similar business found by Content Based algorithm for Pheonix city')\n",
    "plt.show()\n",
    "print(np.mean(busi_stars_rmse))"
   ]
  },
  {
   "cell_type": "code",
   "execution_count": null,
   "metadata": {
    "collapsed": true
   },
   "outputs": [],
   "source": [
    "user_stars_rmse=[]\n",
    "for m in range(len(bus_index_Ids)):\n",
    "    suggestion_list_stars = []\n",
    "    for k in suggest_res_dict[bus_index_Ids[m]]:\n",
    "        suggestion_list_stars.append(float(business_dict[k]['stars']))\n",
    "    val = business_dict[bus_index_Ids[m]]['stars']\n",
    "    curr_stars = [val] * len(suggest_res_dict[bus_index_Ids[m]])\n",
    "    busi_stars_rmse.append(rmse(np.array(curr_stars),np.array(suggestion_list_stars)))"
   ]
  },
  {
   "cell_type": "code",
   "execution_count": 22,
   "metadata": {},
   "outputs": [
    {
     "name": "stdout",
     "output_type": "stream",
     "text": [
      "0.927298332164\n"
     ]
    },
    {
     "data": {
      "image/png": "[encoded data removed]",
      "text/plain": [
       "<matplotlib.figure.Figure at 0x7f60a5076240>"
      ]
     },
     "metadata": {},
     "output_type": "display_data"
    }
   ],
   "source": [
    "print(np.std([x['stars'] for x in business]))\n",
    "stars = [x['stars'] for x in business]\n",
    "plt.hist(stars,bins=100)\n",
    "plt.xlabel('RMSE')\n",
    "plt.ylabel('Number of Businesses')\n",
    "plt.title('RMSE for stars of similar business found by Content Based algorithm for Pheonix city')\n",
    "plt.show()"
   ]
  },
  {
   "cell_type": "code",
   "execution_count": null,
   "metadata": {
    "collapsed": true
   },
   "outputs": [],
   "source": []
  }
 ],
 "metadata": {
  "kernelspec": {
   "display_name": "Python 3",
   "language": "python",
   "name": "python3"
  },
  "language_info": {
   "codemirror_mode": {
    "name": "ipython",
    "version": 3
   },
   "file_extension": ".py",
   "mimetype": "text/x-python",
   "name": "python",
   "nbconvert_exporter": "python",
   "pygments_lexer": "ipython3",
   "version": "3.6.1"
  }
 },
 "nbformat": 4,
 "nbformat_minor": 2
}
