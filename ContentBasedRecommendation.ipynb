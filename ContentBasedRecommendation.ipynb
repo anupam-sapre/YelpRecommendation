{
 "cells": [
  {
   "cell_type": "code",
   "execution_count": 1,
   "metadata": {
    "collapsed": true
   },
   "outputs": [],
   "source": [
    "from pprint import pprint\n",
    "from pymongo import MongoClient\n",
    "from sklearn.feature_extraction.text import TfidfVectorizer\n",
    "from sklearn.metrics.pairwise import cosine_similarity\n",
    "import numpy as np\n",
    "import matplotlib.pyplot as plt\n",
    "from sklearn.decomposition import TruncatedSVD\n",
    "from IPython.display import set_matplotlib_formats\n",
    "#set_matplotlib_formats('pdf', 'svg')\n",
    "#setup Mongo\n",
    "client = MongoClient()\n",
    "db = client.Yelp\n",
    "\n",
    "#Current city can be changed to values like Matthews\n",
    "city = 'Tempe'"
   ]
  },
  {
   "cell_type": "code",
   "execution_count": 2,
   "metadata": {
    "collapsed": true
   },
   "outputs": [],
   "source": [
    "# Function to fetch businesses present in given city\n",
    "def getBusinessByCity(city):\n",
    "    return list(db.business.find({\"city\": city}))"
   ]
  },
  {
   "cell_type": "code",
   "execution_count": 3,
   "metadata": {
    "collapsed": true
   },
   "outputs": [],
   "source": [
    "#Fetch list of reviews given to all businesses in the list\n",
    "def getReviewsByBusId(busids):\n",
    "    reviews = list(db.review.find({\"business_id\":{\"$in\":busids}}))\n",
    "    return reviews"
   ]
  },
  {
   "cell_type": "code",
   "execution_count": 4,
   "metadata": {
    "collapsed": true
   },
   "outputs": [],
   "source": [
    "# Function to fetch tips for all business in the list\n",
    "def getTipsByBusId(busids):\n",
    "    tips = list(db.tip.find({\"business_id\":{\"$in\":busids}}))\n",
    "    return tips"
   ]
  },
  {
   "cell_type": "code",
   "execution_count": 5,
   "metadata": {
    "collapsed": true
   },
   "outputs": [],
   "source": [
    "#Function to get User Infomration using user ID\n",
    "def getUsersById(userids):\n",
    "    users = list(db.user.find({\"user_id\":{\"$in\":userids}}))\n",
    "    return users"
   ]
  },
  {
   "cell_type": "code",
   "execution_count": 6,
   "metadata": {
    "collapsed": true
   },
   "outputs": [],
   "source": [
    "def rmse(predictions, targets):\n",
    "    return np.sqrt(((predictions - targets) ** 2).mean())"
   ]
  },
  {
   "cell_type": "code",
   "execution_count": 7,
   "metadata": {
    "collapsed": true
   },
   "outputs": [],
   "source": [
    "def generateTFIDFMatrix(reviews):\n",
    "    for b_id, text in reviews.items():\n",
    "        reviews[b_id] = \" \".join(text)    \n",
    "    corpus = []\n",
    "    count =0\n",
    "    b_index_Ids={}\n",
    "    for id, txt in sorted(reviews.items(), key=lambda t: str(t[0])):\n",
    "        corpus.append(txt)\n",
    "        b_index_Ids[count] = id\n",
    "        count+=1\n",
    "    tf = TfidfVectorizer(analyzer='word', ngram_range=(1,1), min_df = 0.01,max_df = 0.95, stop_words = 'english')\n",
    "    tfidf_business_matrix =  tf.fit_transform(corpus)\n",
    "    return (b_index_Ids,tfidf_business_matrix)\n",
    "    "
   ]
  },
  {
   "cell_type": "code",
   "execution_count": 8,
   "metadata": {
    "collapsed": true
   },
   "outputs": [],
   "source": [
    "# Current city kept \n",
    "business=getBusinessByCity(city)"
   ]
  },
  {
   "cell_type": "code",
   "execution_count": 9,
   "metadata": {
    "collapsed": true
   },
   "outputs": [],
   "source": [
    "#Get list of business ids  for businesses in given City\n",
    "busids = [x['business_id'] for x in business]\n",
    "\n",
    "business_dict = dict((k, v) for (k, v) in zip(busids, business))\n",
    "\n",
    "reviews = getReviewsByBusId(busids)\n",
    "\n",
    "tips = getTipsByBusId(busids)\n",
    "\n",
    "# get users to bus ids map\n",
    "users_res_reviewd = {}\n",
    "for r in reviews:\n",
    "    if r['user_id'] in users_res_reviewd:\n",
    "        users_res_reviewd[r['user_id']].append(r['business_id'])\n",
    "    else:\n",
    "        users_res_reviewd[r['user_id']]=[r['business_id']]\n",
    "\n",
    "#users who have reviewed restaurants and tips\n",
    "usersR = [x['user_id'] for x in reviews]\n",
    "usersT = [x['user_id'] for x in tips]\n",
    "\n",
    "#get distinct user ids\n",
    "userIds = list(set(usersR))\n",
    "\n",
    "#Fetch user information\n",
    "users = getUsersById(userIds)\n",
    "\n",
    "users_dict = dict((k, v) for (k, v) in zip(userIds, users))\n"
   ]
  },
  {
   "cell_type": "code",
   "execution_count": 10,
   "metadata": {},
   "outputs": [
    {
     "name": "stdout",
     "output_type": "stream",
     "text": [
      "'3949 business.length'\n",
      "'148074 reviews.length'\n",
      "'32995 tips.length'\n",
      "'70225 users.length'\n"
     ]
    }
   ],
   "source": [
    "# Print statistics\n",
    "pprint(str(len(business))+ ' business.length')\n",
    "pprint(str(len(reviews))+ ' reviews.length')\n",
    "pprint(str(len(tips))+ ' tips.length')\n",
    "pprint(str(len(users))+ ' users.length')"
   ]
  },
  {
   "cell_type": "code",
   "execution_count": 11,
   "metadata": {},
   "outputs": [
    {
     "data": {
      "image/png": "[encoded data removed]",
      "text/plain": [
       "<matplotlib.figure.Figure at 0x7f6abd14b748>"
      ]
     },
     "metadata": {},
     "output_type": "display_data"
    },
    {
     "name": "stdout",
     "output_type": "stream",
     "text": [
      "mean 54.0695741479 max 4356 min 6\n"
     ]
    }
   ],
   "source": [
    "# Print Reviews by users for current city's businesses \n",
    "# Limits \n",
    "li = sorted([int(x['review_count']) for x in users if (int(x['review_count'])>5 and int(x['review_count'])<5001 )])\n",
    "plt.hist(li,bins=190)\n",
    "plt.xlabel('Review Count')\n",
    "plt.ylabel('Number of Users')\n",
    "plt.yscale('log', nonposy='clip')\n",
    "plt.title(\"Reviews by users in Tempe\")\n",
    "plt.show()\n",
    "meanli = np.mean(li)\n",
    "maxli=np.max(li)\n",
    "minli=np.min(li)\n",
    "print('mean '+str(meanli) + ' max '+str(maxli) + ' min '+str(minli))\n"
   ]
  },
  {
   "cell_type": "code",
   "execution_count": 12,
   "metadata": {
    "scrolled": true
   },
   "outputs": [
    {
     "data": {
      "image/png": "[encoded data removed]",
      "text/plain": [
       "<matplotlib.figure.Figure at 0x7f6ab9527898>"
      ]
     },
     "metadata": {},
     "output_type": "display_data"
    },
    {
     "name": "stdout",
     "output_type": "stream",
     "text": [
      "mean 49.5651874785 max 1871 min 6\n"
     ]
    }
   ],
   "source": [
    "#Get business which satisy review count constraints \n",
    "lis = sorted([int(x['review_count']) for x in business if (int(x['review_count'])>5 and int(x['review_count'])<5001 )])\n",
    "plt.hist(lis,bins=190)\n",
    "plt.xlabel('Review Count')\n",
    "plt.ylabel('Number of Businesses')\n",
    "plt.yscale('log', nonposy='clip')\n",
    "plt.title(\"Reviews for businesses in Tempe\")\n",
    "plt.show()\n",
    "\n",
    "meanlis = np.mean(lis)\n",
    "maxlis=np.max(lis)\n",
    "minlis=np.min(lis)\n",
    "print('mean '+str(meanlis) + ' max '+str(maxlis) + ' min '+str(minlis))"
   ]
  },
  {
   "cell_type": "code",
   "execution_count": 13,
   "metadata": {
    "collapsed": true
   },
   "outputs": [],
   "source": [
    "#Business with very few reviews will be removed and reviews greater than a limit are removed. \n",
    "# Business with many reviews might have a lot of words and end up being similar to all\n",
    "\n",
    "ignoreBusi = ([x['business_id'] for x in business if (int(x['review_count'])<=5 or int(x['review_count'])>=5001 )])\n",
    "\n",
    "busReviews = {}\n",
    "usrReviews={}\n",
    "#Append all text per user and per business so we can create corpus for them\n",
    "for rev in reviews:\n",
    "    if rev['business_id'] not in ignoreBusi:\n",
    "        if rev['business_id'] in busReviews:\n",
    "            busReviews[rev['business_id']].append(rev['text'])\n",
    "        else:\n",
    "            busReviews[rev['business_id']] = [rev['text']]\n",
    "        if rev['user_id'] in usrReviews:\n",
    "            usrReviews[rev['user_id']].append(rev['text'])\n",
    "        else:\n",
    "            usrReviews[rev['user_id']] = [rev['text']]"
   ]
  },
  {
   "cell_type": "code",
   "execution_count": 14,
   "metadata": {
    "collapsed": true
   },
   "outputs": [],
   "source": [
    "#Generate TF IDF matrix for business\n",
    "bus_index_Ids,tfidf_business_matrix = generateTFIDFMatrix(busReviews)\n",
    "\n",
    "# Use svd approach to reduce dimensionality of TF IDF matrix\n",
    "svd = TruncatedSVD(n_components=100)\n",
    "svdBusinessMatrix = svd.fit_transform(tfidf_business_matrix)"
   ]
  },
  {
   "cell_type": "code",
   "execution_count": 15,
   "metadata": {
    "collapsed": true
   },
   "outputs": [],
   "source": [
    "#Generate cosine similarity matrix here we are finding similar businesses\n",
    "simBusMatrix = cosine_similarity(svdBusinessMatrix)\n",
    "suggest_res_dict = {}\n",
    "for i in range(len(simBusMatrix)):\n",
    "    suggest_res = np.argsort(simBusMatrix[i])[::-1][1:15]\n",
    "    suggest_res_ids = [bus_index_Ids[i] for i  in suggest_res ][:]\n",
    "    suggest_res_dict[bus_index_Ids[i]] = suggest_res_ids\n"
   ]
  },
  {
   "cell_type": "code",
   "execution_count": 16,
   "metadata": {
    "collapsed": true
   },
   "outputs": [],
   "source": [
    "#Generate TF IDF matrix for users\n",
    "userIds,tfidf_user_matrix = generateTFIDFMatrix(usrReviews)\n",
    "# Use svd approach to reduce dimensionality of TF IDF matrix\n",
    "svd1 = TruncatedSVD(n_components=100)\n",
    "svdUsersMatrix = svd1.fit_transform(tfidf_user_matrix)\n"
   ]
  },
  {
   "cell_type": "code",
   "execution_count": 17,
   "metadata": {
    "collapsed": true
   },
   "outputs": [],
   "source": [
    "# Finding similar users is \n",
    "#simUserMatrix = cosine_similarity(svdUsersMatrix)  \n",
    "#suggest_users_dict = {}\n",
    "#for i in range(len(simUserMatrix)):\n",
    "   # suggest_user = np.argsort(simUserMatrix[i])[::-1][1:15]\n",
    "    #suggest_user_ids = [userIds[i] for i  in suggest_user ][:]\n",
    "    #suggest_users_dict[userIds[i]] = suggest_user_ids\n"
   ]
  },
  {
   "cell_type": "code",
   "execution_count": 18,
   "metadata": {
    "collapsed": true
   },
   "outputs": [],
   "source": [
    "# Here we will find business distance from users\n",
    "restaurant_user_matrix = cosine_similarity(svdUsersMatrix,svdBusinessMatrix)\n",
    "suggest_user_res_dict = {}\n",
    "for i in range(len(restaurant_user_matrix)):\n",
    "    #remove restaurants already visited.\n",
    "    cosine_list = restaurant_user_matrix[i][:]\n",
    "    for idx, val in enumerate(cosine_list):\n",
    "        if bus_index_Ids[idx] in users_res_reviewd[userIds[i]]:\n",
    "            np.delete(cosine_list , idx)\n",
    "    suggest_res = np.argsort(cosine_list)[::-1][0:10]\n",
    "    suggest_res_ids = [bus_index_Ids[k] for k  in suggest_res if bus_index_Ids[k] ][:]\n",
    "    suggest_user_res_dict[userIds[i]] = suggest_res_ids"
   ]
  },
  {
   "cell_type": "code",
   "execution_count": 19,
   "metadata": {},
   "outputs": [
    {
     "name": "stdout",
     "output_type": "stream",
     "text": [
      "Arizona School of Massage Therapy Tempe Campus ['Education', 'Massage Schools', 'Beauty & Spas', 'Specialty Schools', 'Massage']\n",
      "\n",
      "KFC ['Restaurants', 'Fast Food', 'Chicken Wings']\n",
      "\n",
      "Elements Massage ['Massage', 'Health & Medical', 'Massage Therapy', 'Beauty & Spas']\n",
      "\n",
      "Popeyes Louisiana Kitchen ['Chicken Wings', 'American (Traditional)', 'Fast Food', 'Cajun/Creole', 'Restaurants']\n",
      "\n",
      "Church's Chicken ['Chicken Wings', 'Restaurants']\n",
      "\n",
      "The Added Touch Massage ['Day Spas', 'Massage Therapy', 'Health & Medical', 'Beauty & Spas']\n",
      "\n",
      "Popeyes Louisiana Kitchen ['Restaurants', 'Fast Food', 'Chicken Wings']\n",
      "\n",
      "Denny's ['Breakfast & Brunch', 'Diners', 'American (Traditional)', 'Restaurants']\n",
      "\n",
      "Sami's Gyros ['Salad', 'Sandwiches', 'Restaurants', 'Mediterranean']\n",
      "\n",
      "Massage Envy - Tempe Marketplace ['Massage', 'Skin Care', 'Beauty & Spas', 'Day Spas']\n",
      "\n"
     ]
    }
   ],
   "source": [
    "#businesspredict_id = sys.argv[1]\n",
    "#This is a trial number to see results of business predicted similar to any user.\n",
    "businesspredict_id = 25\n",
    "    \n",
    "for busi in suggest_user_res_dict[userIds[businesspredict_id]]:\n",
    "    \n",
    "    print(str(business_dict[busi]['name']) + ' ' + str(business_dict[busi]['categories']) + '\\n')\n",
    "\n"
   ]
  },
  {
   "cell_type": "code",
   "execution_count": 20,
   "metadata": {},
   "outputs": [
    {
     "name": "stdout",
     "output_type": "stream",
     "text": [
      "Primary : Cobblestone Veterinary Care ['Veterinarians', 'Pets', 'Health & Medical', 'Acupuncture']\n",
      "\n",
      "\n",
      "\n",
      "South Point Animal Clinic ['Pets', 'Veterinarians']\n",
      "\n",
      "Pecan Grove Veterinary Hospital ['Pets', 'Veterinarians']\n",
      "\n",
      "Topaz Veterinary Clinic ['Veterinarians', 'Pets']\n",
      "\n",
      "Banfield Pet Hospital ['Pets', 'Veterinarians']\n",
      "\n",
      "Countryside Animal Hospital ['Pets', 'Veterinarians', 'Pet Groomers', 'Pet Services', 'Pet Boarding/Pet Sitting']\n",
      "\n",
      "Tempe Veterinary Hospital ['Pets', 'Veterinarians', 'Pet Boarding/Pet Sitting', 'Pet Groomers', 'Pet Services']\n",
      "\n",
      "Baseline Animal Clinic ['Pet Services', 'Pet Cremation Services', 'Pet Groomers', 'Pet Boarding/Pet Sitting', 'Veterinarians', 'Pets']\n",
      "\n",
      "University Animal Hospital & Pet Resort ['Veterinarians', 'Pets', 'Pet Boarding/Pet Sitting', 'Pet Groomers', 'Pet Services']\n",
      "\n",
      "McClintock Animal Care Center ['Veterinarians', 'Pets']\n",
      "\n",
      "Gentle Care Animal Hospital ['Pets', 'Veterinarians']\n",
      "\n",
      "VCA Elliot Park Animal Hospital ['Pets', 'Veterinarians']\n",
      "\n",
      "Banfield Pet Hospital ['Pets', 'Veterinarians']\n",
      "\n",
      "Michael J. Orris, DO, MBA, FASMBS ['Nutritionists', 'Health & Medical', 'Doctors', 'Medical Centers', 'Weight Loss Centers']\n",
      "\n",
      "Maturo Medical Weight and Wellness ['Health & Medical', 'Nutritionists', 'Naturopathic/Holistic', 'Weight Loss Centers', 'Doctors']\n",
      "\n"
     ]
    }
   ],
   "source": [
    "#Check if categories are overallping for Primary and the one's predicted as similar to it\n",
    "print('Primary : ' + str(business_dict[bus_index_Ids[businesspredict_id]]['name'])  + ' ' + str(business_dict[bus_index_Ids[businesspredict_id]]['categories']) +'\\n')\n",
    "print('\\n')\n",
    "for busi in suggest_res_dict[bus_index_Ids[businesspredict_id]]:\n",
    "    print(str(business_dict[busi]['name'])  + ' ' + str(business_dict[busi]['categories']) +'\\n')\n"
   ]
  },
  {
   "cell_type": "code",
   "execution_count": 21,
   "metadata": {
    "collapsed": true
   },
   "outputs": [],
   "source": [
    "# Calculate ratings difference between restaurant and it's similar restaurants\n",
    "busi_stars_rmse=[]\n",
    "for m in range(len(bus_index_Ids)):\n",
    "    suggestion_list_stars = []\n",
    "    for k in suggest_res_dict[bus_index_Ids[m]]:\n",
    "        suggestion_list_stars.append(float(business_dict[k]['stars']))\n",
    "    val = business_dict[bus_index_Ids[m]]['stars']\n",
    "    curr_stars = [val] * len(suggest_res_dict[bus_index_Ids[m]])\n",
    "    busi_stars_rmse.append(rmse(np.array(curr_stars),np.array(suggestion_list_stars)))\n"
   ]
  },
  {
   "cell_type": "code",
   "execution_count": 22,
   "metadata": {},
   "outputs": [
    {
     "data": {
      "image/png": "[encoded data removed]",
      "text/plain": [
       "<matplotlib.figure.Figure at 0x7f6ab90ff3c8>"
      ]
     },
     "metadata": {},
     "output_type": "display_data"
    },
    {
     "name": "stdout",
     "output_type": "stream",
     "text": [
      "0.89419821965\n",
      "0.392374349157\n",
      "0.801783725737\n"
     ]
    }
   ],
   "source": [
    "# Plot graph for RMSE\n",
    "plt.hist(busi_stars_rmse,bins=100)\n",
    "plt.xlabel('RMSE')\n",
    "plt.ylabel('Number of Businesses')\n",
    "plt.title('RMSE for stars of similar businesses found by Content Based algorithm')\n",
    "plt.show()\n",
    "print(np.mean(busi_stars_rmse))\n",
    "print(np.std(busi_stars_rmse))\n",
    "print(np.median(busi_stars_rmse))"
   ]
  },
  {
   "cell_type": "code",
   "execution_count": 23,
   "metadata": {
    "collapsed": true
   },
   "outputs": [],
   "source": [
    "#user_stars_rmse=[]\n",
    "#for m in range(len(bus_index_Ids)):\n",
    "    #suggestion_list_stars = []\n",
    "    #for k in suggest_res_dict[bus_index_Ids[m]]:\n",
    "        #suggestion_list_stars.append(float(business_dict[k]['stars']))\n",
    "    #val = business_dict[bus_index_Ids[m]]['stars']\n",
    "    #curr_stars = [val] * len(suggest_res_dict[bus_index_Ids[m]])\n",
    "    #busi_stars_rmse.append(rmse(np.array(curr_stars),np.array(suggestion_list_stars)))"
   ]
  },
  {
   "cell_type": "code",
   "execution_count": 24,
   "metadata": {},
   "outputs": [
    {
     "name": "stdout",
     "output_type": "stream",
     "text": [
      "1.03090156369\n"
     ]
    },
    {
     "data": {
      "image/png": "[encoded data removed]",
      "text/plain": [
       "<matplotlib.figure.Figure at 0x7f6abd142b38>"
      ]
     },
     "metadata": {},
     "output_type": "display_data"
    }
   ],
   "source": [
    "#This is graph of all ratings for businesses in the given city.\n",
    "print(np.std([x['stars'] for x in business]))\n",
    "stars = [x['stars'] for x in business]\n",
    "plt.hist(stars,bins=100)\n",
    "plt.xlabel('stars')\n",
    "plt.ylabel('Number of Businesses')\n",
    "plt.title('Stars of businesses in current city')\n",
    "plt.show()"
   ]
  },
  {
   "cell_type": "code",
   "execution_count": null,
   "metadata": {
    "collapsed": true
   },
   "outputs": [],
   "source": []
  }
 ],
 "metadata": {
  "kernelspec": {
   "display_name": "Python 3",
   "language": "python",
   "name": "python3"
  },
  "language_info": {
   "codemirror_mode": {
    "name": "ipython",
    "version": 3
   },
   "file_extension": ".py",
   "mimetype": "text/x-python",
   "name": "python",
   "nbconvert_exporter": "python",
   "pygments_lexer": "ipython3",
   "version": "3.6.1"
  }
 },
 "nbformat": 4,
 "nbformat_minor": 2
}
